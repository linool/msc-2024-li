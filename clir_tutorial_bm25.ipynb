{
  "nbformat": 4,
  "nbformat_minor": 0,
  "metadata": {
    "colab": {
      "provenance": [],
      "include_colab_link": true
    },
    "kernelspec": {
      "name": "python3",
      "display_name": "Python 3"
    },
    "language_info": {
      "name": "python"
    },
    "widgets": {
      "application/vnd.jupyter.widget-state+json": {
        "ff91e7e524bc4f37bd9b6b575520c44c": {
          "model_module": "@jupyter-widgets/controls",
          "model_name": "HBoxModel",
          "model_module_version": "1.5.0",
          "state": {
            "_dom_classes": [],
            "_model_module": "@jupyter-widgets/controls",
            "_model_module_version": "1.5.0",
            "_model_name": "HBoxModel",
            "_view_count": null,
            "_view_module": "@jupyter-widgets/controls",
            "_view_module_version": "1.5.0",
            "_view_name": "HBoxView",
            "box_style": "",
            "children": [
              "IPY_MODEL_5d699e98b9f54c5a9324b34dfaf13772",
              "IPY_MODEL_224b1f76f3904cc6968e38a75c0eba83",
              "IPY_MODEL_53c2de696044483186b88bda0d0dc2a8"
            ],
            "layout": "IPY_MODEL_26fffc837dbf425d9ca6baea4ab6156f"
          }
        },
        "5d699e98b9f54c5a9324b34dfaf13772": {
          "model_module": "@jupyter-widgets/controls",
          "model_name": "HTMLModel",
          "model_module_version": "1.5.0",
          "state": {
            "_dom_classes": [],
            "_model_module": "@jupyter-widgets/controls",
            "_model_module_version": "1.5.0",
            "_model_name": "HTMLModel",
            "_view_count": null,
            "_view_module": "@jupyter-widgets/controls",
            "_view_module_version": "1.5.0",
            "_view_name": "HTMLView",
            "description": "",
            "description_tooltip": null,
            "layout": "IPY_MODEL_ac56551f4063466597f649cd16b8467c",
            "placeholder": "​",
            "style": "IPY_MODEL_7a8b95fd75cb4121b0f4b9a9180d3e50",
            "value": "Loading first 40k docs from NeuCLIR Chinese Collection: 100%"
          }
        },
        "224b1f76f3904cc6968e38a75c0eba83": {
          "model_module": "@jupyter-widgets/controls",
          "model_name": "FloatProgressModel",
          "model_module_version": "1.5.0",
          "state": {
            "_dom_classes": [],
            "_model_module": "@jupyter-widgets/controls",
            "_model_module_version": "1.5.0",
            "_model_name": "FloatProgressModel",
            "_view_count": null,
            "_view_module": "@jupyter-widgets/controls",
            "_view_module_version": "1.5.0",
            "_view_name": "ProgressView",
            "bar_style": "success",
            "description": "",
            "description_tooltip": null,
            "layout": "IPY_MODEL_39b1769ec28848629840c58fd8d89c74",
            "max": 40000,
            "min": 0,
            "orientation": "horizontal",
            "style": "IPY_MODEL_47ec41f6fbdf4bbfa611ee01a9cf1c3e",
            "value": 40000
          }
        },
        "53c2de696044483186b88bda0d0dc2a8": {
          "model_module": "@jupyter-widgets/controls",
          "model_name": "HTMLModel",
          "model_module_version": "1.5.0",
          "state": {
            "_dom_classes": [],
            "_model_module": "@jupyter-widgets/controls",
            "_model_module_version": "1.5.0",
            "_model_name": "HTMLModel",
            "_view_count": null,
            "_view_module": "@jupyter-widgets/controls",
            "_view_module_version": "1.5.0",
            "_view_name": "HTMLView",
            "description": "",
            "description_tooltip": null,
            "layout": "IPY_MODEL_f09b79cb3cb4471faee943ce779307bf",
            "placeholder": "​",
            "style": "IPY_MODEL_8f1fd9a2ba8b4cc0b2339f52825a86f1",
            "value": " 40000/40000 [00:21&lt;00:00, 3261.46it/s]"
          }
        },
        "26fffc837dbf425d9ca6baea4ab6156f": {
          "model_module": "@jupyter-widgets/base",
          "model_name": "LayoutModel",
          "model_module_version": "1.2.0",
          "state": {
            "_model_module": "@jupyter-widgets/base",
            "_model_module_version": "1.2.0",
            "_model_name": "LayoutModel",
            "_view_count": null,
            "_view_module": "@jupyter-widgets/base",
            "_view_module_version": "1.2.0",
            "_view_name": "LayoutView",
            "align_content": null,
            "align_items": null,
            "align_self": null,
            "border": null,
            "bottom": null,
            "display": null,
            "flex": null,
            "flex_flow": null,
            "grid_area": null,
            "grid_auto_columns": null,
            "grid_auto_flow": null,
            "grid_auto_rows": null,
            "grid_column": null,
            "grid_gap": null,
            "grid_row": null,
            "grid_template_areas": null,
            "grid_template_columns": null,
            "grid_template_rows": null,
            "height": null,
            "justify_content": null,
            "justify_items": null,
            "left": null,
            "margin": null,
            "max_height": null,
            "max_width": null,
            "min_height": null,
            "min_width": null,
            "object_fit": null,
            "object_position": null,
            "order": null,
            "overflow": null,
            "overflow_x": null,
            "overflow_y": null,
            "padding": null,
            "right": null,
            "top": null,
            "visibility": null,
            "width": null
          }
        },
        "ac56551f4063466597f649cd16b8467c": {
          "model_module": "@jupyter-widgets/base",
          "model_name": "LayoutModel",
          "model_module_version": "1.2.0",
          "state": {
            "_model_module": "@jupyter-widgets/base",
            "_model_module_version": "1.2.0",
            "_model_name": "LayoutModel",
            "_view_count": null,
            "_view_module": "@jupyter-widgets/base",
            "_view_module_version": "1.2.0",
            "_view_name": "LayoutView",
            "align_content": null,
            "align_items": null,
            "align_self": null,
            "border": null,
            "bottom": null,
            "display": null,
            "flex": null,
            "flex_flow": null,
            "grid_area": null,
            "grid_auto_columns": null,
            "grid_auto_flow": null,
            "grid_auto_rows": null,
            "grid_column": null,
            "grid_gap": null,
            "grid_row": null,
            "grid_template_areas": null,
            "grid_template_columns": null,
            "grid_template_rows": null,
            "height": null,
            "justify_content": null,
            "justify_items": null,
            "left": null,
            "margin": null,
            "max_height": null,
            "max_width": null,
            "min_height": null,
            "min_width": null,
            "object_fit": null,
            "object_position": null,
            "order": null,
            "overflow": null,
            "overflow_x": null,
            "overflow_y": null,
            "padding": null,
            "right": null,
            "top": null,
            "visibility": null,
            "width": null
          }
        },
        "7a8b95fd75cb4121b0f4b9a9180d3e50": {
          "model_module": "@jupyter-widgets/controls",
          "model_name": "DescriptionStyleModel",
          "model_module_version": "1.5.0",
          "state": {
            "_model_module": "@jupyter-widgets/controls",
            "_model_module_version": "1.5.0",
            "_model_name": "DescriptionStyleModel",
            "_view_count": null,
            "_view_module": "@jupyter-widgets/base",
            "_view_module_version": "1.2.0",
            "_view_name": "StyleView",
            "description_width": ""
          }
        },
        "39b1769ec28848629840c58fd8d89c74": {
          "model_module": "@jupyter-widgets/base",
          "model_name": "LayoutModel",
          "model_module_version": "1.2.0",
          "state": {
            "_model_module": "@jupyter-widgets/base",
            "_model_module_version": "1.2.0",
            "_model_name": "LayoutModel",
            "_view_count": null,
            "_view_module": "@jupyter-widgets/base",
            "_view_module_version": "1.2.0",
            "_view_name": "LayoutView",
            "align_content": null,
            "align_items": null,
            "align_self": null,
            "border": null,
            "bottom": null,
            "display": null,
            "flex": null,
            "flex_flow": null,
            "grid_area": null,
            "grid_auto_columns": null,
            "grid_auto_flow": null,
            "grid_auto_rows": null,
            "grid_column": null,
            "grid_gap": null,
            "grid_row": null,
            "grid_template_areas": null,
            "grid_template_columns": null,
            "grid_template_rows": null,
            "height": null,
            "justify_content": null,
            "justify_items": null,
            "left": null,
            "margin": null,
            "max_height": null,
            "max_width": null,
            "min_height": null,
            "min_width": null,
            "object_fit": null,
            "object_position": null,
            "order": null,
            "overflow": null,
            "overflow_x": null,
            "overflow_y": null,
            "padding": null,
            "right": null,
            "top": null,
            "visibility": null,
            "width": null
          }
        },
        "47ec41f6fbdf4bbfa611ee01a9cf1c3e": {
          "model_module": "@jupyter-widgets/controls",
          "model_name": "ProgressStyleModel",
          "model_module_version": "1.5.0",
          "state": {
            "_model_module": "@jupyter-widgets/controls",
            "_model_module_version": "1.5.0",
            "_model_name": "ProgressStyleModel",
            "_view_count": null,
            "_view_module": "@jupyter-widgets/base",
            "_view_module_version": "1.2.0",
            "_view_name": "StyleView",
            "bar_color": null,
            "description_width": ""
          }
        },
        "f09b79cb3cb4471faee943ce779307bf": {
          "model_module": "@jupyter-widgets/base",
          "model_name": "LayoutModel",
          "model_module_version": "1.2.0",
          "state": {
            "_model_module": "@jupyter-widgets/base",
            "_model_module_version": "1.2.0",
            "_model_name": "LayoutModel",
            "_view_count": null,
            "_view_module": "@jupyter-widgets/base",
            "_view_module_version": "1.2.0",
            "_view_name": "LayoutView",
            "align_content": null,
            "align_items": null,
            "align_self": null,
            "border": null,
            "bottom": null,
            "display": null,
            "flex": null,
            "flex_flow": null,
            "grid_area": null,
            "grid_auto_columns": null,
            "grid_auto_flow": null,
            "grid_auto_rows": null,
            "grid_column": null,
            "grid_gap": null,
            "grid_row": null,
            "grid_template_areas": null,
            "grid_template_columns": null,
            "grid_template_rows": null,
            "height": null,
            "justify_content": null,
            "justify_items": null,
            "left": null,
            "margin": null,
            "max_height": null,
            "max_width": null,
            "min_height": null,
            "min_width": null,
            "object_fit": null,
            "object_position": null,
            "order": null,
            "overflow": null,
            "overflow_x": null,
            "overflow_y": null,
            "padding": null,
            "right": null,
            "top": null,
            "visibility": null,
            "width": null
          }
        },
        "8f1fd9a2ba8b4cc0b2339f52825a86f1": {
          "model_module": "@jupyter-widgets/controls",
          "model_name": "DescriptionStyleModel",
          "model_module_version": "1.5.0",
          "state": {
            "_model_module": "@jupyter-widgets/controls",
            "_model_module_version": "1.5.0",
            "_model_name": "DescriptionStyleModel",
            "_view_count": null,
            "_view_module": "@jupyter-widgets/base",
            "_view_module_version": "1.2.0",
            "_view_name": "StyleView",
            "description_width": ""
          }
        },
        "4126a687ec3d477c91daec46f7fabf50": {
          "model_module": "@jupyter-widgets/controls",
          "model_name": "HBoxModel",
          "model_module_version": "1.5.0",
          "state": {
            "_dom_classes": [],
            "_model_module": "@jupyter-widgets/controls",
            "_model_module_version": "1.5.0",
            "_model_name": "HBoxModel",
            "_view_count": null,
            "_view_module": "@jupyter-widgets/controls",
            "_view_module_version": "1.5.0",
            "_view_name": "HBoxView",
            "box_style": "",
            "children": [
              "IPY_MODEL_6cca3797f8f64ac5933bd975a1d79834",
              "IPY_MODEL_d0b3859603ff4c3c8d8afad4532e4c34",
              "IPY_MODEL_f64c46fafe37484ab3c71a744c61f307"
            ],
            "layout": "IPY_MODEL_c2aecfe8aabc4651928f17948c956ff3"
          }
        },
        "6cca3797f8f64ac5933bd975a1d79834": {
          "model_module": "@jupyter-widgets/controls",
          "model_name": "HTMLModel",
          "model_module_version": "1.5.0",
          "state": {
            "_dom_classes": [],
            "_model_module": "@jupyter-widgets/controls",
            "_model_module_version": "1.5.0",
            "_model_name": "HTMLModel",
            "_view_count": null,
            "_view_module": "@jupyter-widgets/controls",
            "_view_module_version": "1.5.0",
            "_view_name": "HTMLView",
            "description": "",
            "description_tooltip": null,
            "layout": "IPY_MODEL_3f3e48ea40aa42a9802f04acea5d57a9",
            "placeholder": "​",
            "style": "IPY_MODEL_2ba9ea43a28b41349fc1f522c69997b1",
            "value": "100%"
          }
        },
        "d0b3859603ff4c3c8d8afad4532e4c34": {
          "model_module": "@jupyter-widgets/controls",
          "model_name": "FloatProgressModel",
          "model_module_version": "1.5.0",
          "state": {
            "_dom_classes": [],
            "_model_module": "@jupyter-widgets/controls",
            "_model_module_version": "1.5.0",
            "_model_name": "FloatProgressModel",
            "_view_count": null,
            "_view_module": "@jupyter-widgets/controls",
            "_view_module_version": "1.5.0",
            "_view_name": "ProgressView",
            "bar_style": "success",
            "description": "",
            "description_tooltip": null,
            "layout": "IPY_MODEL_5e687d906f2247f38393b81644ad53f8",
            "max": 40000,
            "min": 0,
            "orientation": "horizontal",
            "style": "IPY_MODEL_97033bcd95fd43d29063e7f190a89248",
            "value": 40000
          }
        },
        "f64c46fafe37484ab3c71a744c61f307": {
          "model_module": "@jupyter-widgets/controls",
          "model_name": "HTMLModel",
          "model_module_version": "1.5.0",
          "state": {
            "_dom_classes": [],
            "_model_module": "@jupyter-widgets/controls",
            "_model_module_version": "1.5.0",
            "_model_name": "HTMLModel",
            "_view_count": null,
            "_view_module": "@jupyter-widgets/controls",
            "_view_module_version": "1.5.0",
            "_view_name": "HTMLView",
            "description": "",
            "description_tooltip": null,
            "layout": "IPY_MODEL_8e5de9e2fb554d8d91f11af55d6a677b",
            "placeholder": "​",
            "style": "IPY_MODEL_0a07969c0b084be69ece6a4efeaadb1f",
            "value": " 40000/40000 [00:01&lt;00:00, 25491.62it/s]"
          }
        },
        "c2aecfe8aabc4651928f17948c956ff3": {
          "model_module": "@jupyter-widgets/base",
          "model_name": "LayoutModel",
          "model_module_version": "1.2.0",
          "state": {
            "_model_module": "@jupyter-widgets/base",
            "_model_module_version": "1.2.0",
            "_model_name": "LayoutModel",
            "_view_count": null,
            "_view_module": "@jupyter-widgets/base",
            "_view_module_version": "1.2.0",
            "_view_name": "LayoutView",
            "align_content": null,
            "align_items": null,
            "align_self": null,
            "border": null,
            "bottom": null,
            "display": null,
            "flex": null,
            "flex_flow": null,
            "grid_area": null,
            "grid_auto_columns": null,
            "grid_auto_flow": null,
            "grid_auto_rows": null,
            "grid_column": null,
            "grid_gap": null,
            "grid_row": null,
            "grid_template_areas": null,
            "grid_template_columns": null,
            "grid_template_rows": null,
            "height": null,
            "justify_content": null,
            "justify_items": null,
            "left": null,
            "margin": null,
            "max_height": null,
            "max_width": null,
            "min_height": null,
            "min_width": null,
            "object_fit": null,
            "object_position": null,
            "order": null,
            "overflow": null,
            "overflow_x": null,
            "overflow_y": null,
            "padding": null,
            "right": null,
            "top": null,
            "visibility": null,
            "width": null
          }
        },
        "3f3e48ea40aa42a9802f04acea5d57a9": {
          "model_module": "@jupyter-widgets/base",
          "model_name": "LayoutModel",
          "model_module_version": "1.2.0",
          "state": {
            "_model_module": "@jupyter-widgets/base",
            "_model_module_version": "1.2.0",
            "_model_name": "LayoutModel",
            "_view_count": null,
            "_view_module": "@jupyter-widgets/base",
            "_view_module_version": "1.2.0",
            "_view_name": "LayoutView",
            "align_content": null,
            "align_items": null,
            "align_self": null,
            "border": null,
            "bottom": null,
            "display": null,
            "flex": null,
            "flex_flow": null,
            "grid_area": null,
            "grid_auto_columns": null,
            "grid_auto_flow": null,
            "grid_auto_rows": null,
            "grid_column": null,
            "grid_gap": null,
            "grid_row": null,
            "grid_template_areas": null,
            "grid_template_columns": null,
            "grid_template_rows": null,
            "height": null,
            "justify_content": null,
            "justify_items": null,
            "left": null,
            "margin": null,
            "max_height": null,
            "max_width": null,
            "min_height": null,
            "min_width": null,
            "object_fit": null,
            "object_position": null,
            "order": null,
            "overflow": null,
            "overflow_x": null,
            "overflow_y": null,
            "padding": null,
            "right": null,
            "top": null,
            "visibility": null,
            "width": null
          }
        },
        "2ba9ea43a28b41349fc1f522c69997b1": {
          "model_module": "@jupyter-widgets/controls",
          "model_name": "DescriptionStyleModel",
          "model_module_version": "1.5.0",
          "state": {
            "_model_module": "@jupyter-widgets/controls",
            "_model_module_version": "1.5.0",
            "_model_name": "DescriptionStyleModel",
            "_view_count": null,
            "_view_module": "@jupyter-widgets/base",
            "_view_module_version": "1.2.0",
            "_view_name": "StyleView",
            "description_width": ""
          }
        },
        "5e687d906f2247f38393b81644ad53f8": {
          "model_module": "@jupyter-widgets/base",
          "model_name": "LayoutModel",
          "model_module_version": "1.2.0",
          "state": {
            "_model_module": "@jupyter-widgets/base",
            "_model_module_version": "1.2.0",
            "_model_name": "LayoutModel",
            "_view_count": null,
            "_view_module": "@jupyter-widgets/base",
            "_view_module_version": "1.2.0",
            "_view_name": "LayoutView",
            "align_content": null,
            "align_items": null,
            "align_self": null,
            "border": null,
            "bottom": null,
            "display": null,
            "flex": null,
            "flex_flow": null,
            "grid_area": null,
            "grid_auto_columns": null,
            "grid_auto_flow": null,
            "grid_auto_rows": null,
            "grid_column": null,
            "grid_gap": null,
            "grid_row": null,
            "grid_template_areas": null,
            "grid_template_columns": null,
            "grid_template_rows": null,
            "height": null,
            "justify_content": null,
            "justify_items": null,
            "left": null,
            "margin": null,
            "max_height": null,
            "max_width": null,
            "min_height": null,
            "min_width": null,
            "object_fit": null,
            "object_position": null,
            "order": null,
            "overflow": null,
            "overflow_x": null,
            "overflow_y": null,
            "padding": null,
            "right": null,
            "top": null,
            "visibility": null,
            "width": null
          }
        },
        "97033bcd95fd43d29063e7f190a89248": {
          "model_module": "@jupyter-widgets/controls",
          "model_name": "ProgressStyleModel",
          "model_module_version": "1.5.0",
          "state": {
            "_model_module": "@jupyter-widgets/controls",
            "_model_module_version": "1.5.0",
            "_model_name": "ProgressStyleModel",
            "_view_count": null,
            "_view_module": "@jupyter-widgets/base",
            "_view_module_version": "1.2.0",
            "_view_name": "StyleView",
            "bar_color": null,
            "description_width": ""
          }
        },
        "8e5de9e2fb554d8d91f11af55d6a677b": {
          "model_module": "@jupyter-widgets/base",
          "model_name": "LayoutModel",
          "model_module_version": "1.2.0",
          "state": {
            "_model_module": "@jupyter-widgets/base",
            "_model_module_version": "1.2.0",
            "_model_name": "LayoutModel",
            "_view_count": null,
            "_view_module": "@jupyter-widgets/base",
            "_view_module_version": "1.2.0",
            "_view_name": "LayoutView",
            "align_content": null,
            "align_items": null,
            "align_self": null,
            "border": null,
            "bottom": null,
            "display": null,
            "flex": null,
            "flex_flow": null,
            "grid_area": null,
            "grid_auto_columns": null,
            "grid_auto_flow": null,
            "grid_auto_rows": null,
            "grid_column": null,
            "grid_gap": null,
            "grid_row": null,
            "grid_template_areas": null,
            "grid_template_columns": null,
            "grid_template_rows": null,
            "height": null,
            "justify_content": null,
            "justify_items": null,
            "left": null,
            "margin": null,
            "max_height": null,
            "max_width": null,
            "min_height": null,
            "min_width": null,
            "object_fit": null,
            "object_position": null,
            "order": null,
            "overflow": null,
            "overflow_x": null,
            "overflow_y": null,
            "padding": null,
            "right": null,
            "top": null,
            "visibility": null,
            "width": null
          }
        },
        "0a07969c0b084be69ece6a4efeaadb1f": {
          "model_module": "@jupyter-widgets/controls",
          "model_name": "DescriptionStyleModel",
          "model_module_version": "1.5.0",
          "state": {
            "_model_module": "@jupyter-widgets/controls",
            "_model_module_version": "1.5.0",
            "_model_name": "DescriptionStyleModel",
            "_view_count": null,
            "_view_module": "@jupyter-widgets/base",
            "_view_module_version": "1.2.0",
            "_view_name": "StyleView",
            "description_width": ""
          }
        }
      }
    }
  },
  "cells": [
    {
      "cell_type": "markdown",
      "metadata": {
        "id": "view-in-github",
        "colab_type": "text"
      },
      "source": [
        "<a href=\"https://colab.research.google.com/github/linool/msc-2024-li/blob/main/clir_tutorial_bm25.ipynb\" target=\"_parent\"><img src=\"https://colab.research.google.com/assets/colab-badge.svg\" alt=\"Open In Colab\"/></a>"
      ]
    },
    {
      "cell_type": "markdown",
      "source": [
        "# BM25 model for CLIR\n",
        "\n",
        "In this notebook we are going to walk through a CLIR example using a BM25 model with query translation to generate a ranked list on the NeuCLIR Chinese collection.\n",
        "\n"
      ],
      "metadata": {
        "id": "Gf3QADZx9uWO"
      }
    },
    {
      "cell_type": "markdown",
      "source": [
        "## Setup\n",
        "Replicating the steps from the official Anserini [notebook](https://github.com/castorini/anserini-notebooks/blob/master/anserini_robust04_demo.ipynb)"
      ],
      "metadata": {
        "id": "LMpCvJI7-B86"
      }
    },
    {
      "cell_type": "markdown",
      "source": [
        "First, install Maven (Java 11 comes pre-installed already):\n"
      ],
      "metadata": {
        "id": "_KRfyjqi-N-M"
      }
    },
    {
      "cell_type": "code",
      "source": [
        "%%capture\n",
        "!apt-get install maven -qq"
      ],
      "metadata": {
        "id": "cKQK-XuY-Ohm"
      },
      "execution_count": null,
      "outputs": []
    },
    {
      "cell_type": "markdown",
      "source": [
        "Clone and build Anserini:"
      ],
      "metadata": {
        "id": "YDR5nlMiBhm_"
      }
    },
    {
      "cell_type": "code",
      "source": [
        "%%capture\n",
        "!git clone --recurse-submodules https://github.com/castorini/anserini.git\n",
        "%cd anserini\n",
        "!cd tools/eval && tar xvfz trec_eval.9.0.4.tar.gz && cd trec_eval.9.0.4 && make && cd ../../..\n",
        "!mvn clean package appassembler:assemble -DskipTests -Dmaven.javadoc.skip=true"
      ],
      "metadata": {
        "id": "fyBTjylzBiaj"
      },
      "execution_count": null,
      "outputs": []
    },
    {
      "cell_type": "markdown",
      "source": [
        "If all goes well, you should be able to see anserini-X.Y.Z-SNAPSHOT-fatjar.jar in target/:"
      ],
      "metadata": {
        "id": "laeFw5oUBlHg"
      }
    },
    {
      "cell_type": "code",
      "source": [
        "!ls target"
      ],
      "metadata": {
        "colab": {
          "base_uri": "https://localhost:8080/"
        },
        "id": "RLb1ujHZBsgT",
        "outputId": "e1542164-6a6e-46bc-c368-b8529248dd90"
      },
      "execution_count": null,
      "outputs": [
        {
          "output_type": "stream",
          "name": "stdout",
          "text": [
            "anserini-0.21.1-SNAPSHOT-fatjar.jar   classes\t\t      maven-status\n",
            "anserini-0.21.1-SNAPSHOT.jar\t      generated-sources       test-classes\n",
            "anserini-0.21.1-SNAPSHOT-sources.jar  generated-test-sources\n",
            "appassembler\t\t\t      maven-archiver\n"
          ]
        }
      ]
    },
    {
      "cell_type": "markdown",
      "source": [
        "Let's install the packages!\n",
        "The following command will install `ir_measurees`, Huggingface `datasets`, Google Translate (for presentation), and Huggingface Transformers."
      ],
      "metadata": {
        "id": "nHyAuJMXIWEi"
      }
    },
    {
      "cell_type": "code",
      "source": [
        "!pip install -q -U --progress-bar on ir_measures transformers datasets googletrans==3.1.0a0"
      ],
      "metadata": {
        "colab": {
          "base_uri": "https://localhost:8080/"
        },
        "id": "ZVlNOiqpB2ps",
        "outputId": "37e6f946-5438-49d4-d32c-bbeb420d698b"
      },
      "execution_count": null,
      "outputs": [
        {
          "output_type": "stream",
          "name": "stdout",
          "text": [
            "\u001b[?25l     \u001b[90m━━━━━━━━━━━━━━━━━━━━━━━━━━━━━━━━━━━━━━━━\u001b[0m \u001b[32m0.0/48.8 kB\u001b[0m \u001b[31m?\u001b[0m eta \u001b[36m-:--:--\u001b[0m\r\u001b[2K     \u001b[90m━━━━━━━━━━━━━━━━━━━━━━━━━━━━━━━━━━━━━━━━\u001b[0m \u001b[32m48.8/48.8 kB\u001b[0m \u001b[31m2.4 MB/s\u001b[0m eta \u001b[36m0:00:00\u001b[0m\n",
            "\u001b[?25h  Preparing metadata (setup.py) ... \u001b[?25l\u001b[?25hdone\n",
            "\u001b[2K     \u001b[90m━━━━━━━━━━━━━━━━━━━━━━━━━━━━━━━━━━━━━━━━\u001b[0m \u001b[32m7.2/7.2 MB\u001b[0m \u001b[31m27.8 MB/s\u001b[0m eta \u001b[36m0:00:00\u001b[0m\n",
            "\u001b[2K     \u001b[90m━━━━━━━━━━━━━━━━━━━━━━━━━━━━━━━━━━━━━━\u001b[0m \u001b[32m486.2/486.2 kB\u001b[0m \u001b[31m32.9 MB/s\u001b[0m eta \u001b[36m0:00:00\u001b[0m\n",
            "\u001b[?25h  Preparing metadata (setup.py) ... \u001b[?25l\u001b[?25hdone\n",
            "\u001b[2K     \u001b[90m━━━━━━━━━━━━━━━━━━━━━━━━━━━━━━━━━━━━━━━━\u001b[0m \u001b[32m55.1/55.1 kB\u001b[0m \u001b[31m6.2 MB/s\u001b[0m eta \u001b[36m0:00:00\u001b[0m\n",
            "\u001b[2K     \u001b[90m━━━━━━━━━━━━━━━━━━━━━━━━━━━━━━━━━━━━━━━━\u001b[0m \u001b[32m1.5/1.5 MB\u001b[0m \u001b[31m62.2 MB/s\u001b[0m eta \u001b[36m0:00:00\u001b[0m\n",
            "\u001b[2K     \u001b[90m━━━━━━━━━━━━━━━━━━━━━━━━━━━━━━━━━━━━━━\u001b[0m \u001b[32m133.4/133.4 kB\u001b[0m \u001b[31m15.6 MB/s\u001b[0m eta \u001b[36m0:00:00\u001b[0m\n",
            "\u001b[2K     \u001b[90m━━━━━━━━━━━━━━━━━━━━━━━━━━━━━━━━━━━━━━━━\u001b[0m \u001b[32m58.8/58.8 kB\u001b[0m \u001b[31m7.4 MB/s\u001b[0m eta \u001b[36m0:00:00\u001b[0m\n",
            "\u001b[2K     \u001b[90m━━━━━━━━━━━━━━━━━━━━━━━━━━━━━━━━━━━━━━━━\u001b[0m \u001b[32m42.6/42.6 kB\u001b[0m \u001b[31m4.5 MB/s\u001b[0m eta \u001b[36m0:00:00\u001b[0m\n",
            "\u001b[2K     \u001b[90m━━━━━━━━━━━━━━━━━━━━━━━━━━━━━━━━━━━━━━━━\u001b[0m \u001b[32m53.6/53.6 kB\u001b[0m \u001b[31m6.3 MB/s\u001b[0m eta \u001b[36m0:00:00\u001b[0m\n",
            "\u001b[2K     \u001b[90m━━━━━━━━━━━━━━━━━━━━━━━━━━━━━━━━━━━━━━━━\u001b[0m \u001b[32m65.0/65.0 kB\u001b[0m \u001b[31m7.3 MB/s\u001b[0m eta \u001b[36m0:00:00\u001b[0m\n",
            "\u001b[2K     \u001b[90m━━━━━━━━━━━━━━━━━━━━━━━━━━━━━━━━━━━━━━\u001b[0m \u001b[32m287.4/287.4 kB\u001b[0m \u001b[31m19.6 MB/s\u001b[0m eta \u001b[36m0:00:00\u001b[0m\n",
            "\u001b[?25h  Preparing metadata (setup.py) ... \u001b[?25l\u001b[?25hdone\n",
            "\u001b[2K     \u001b[90m━━━━━━━━━━━━━━━━━━━━━━━━━━━━━━━━━━━━━━\u001b[0m \u001b[32m268.8/268.8 kB\u001b[0m \u001b[31m22.4 MB/s\u001b[0m eta \u001b[36m0:00:00\u001b[0m\n",
            "\u001b[2K     \u001b[90m━━━━━━━━━━━━━━━━━━━━━━━━━━━━━━━━━━━━━━━━\u001b[0m \u001b[32m7.8/7.8 MB\u001b[0m \u001b[31m47.5 MB/s\u001b[0m eta \u001b[36m0:00:00\u001b[0m\n",
            "\u001b[2K     \u001b[90m━━━━━━━━━━━━━━━━━━━━━━━━━━━━━━━━━━━━━━━━\u001b[0m \u001b[32m1.3/1.3 MB\u001b[0m \u001b[31m39.0 MB/s\u001b[0m eta \u001b[36m0:00:00\u001b[0m\n",
            "\u001b[2K     \u001b[90m━━━━━━━━━━━━━━━━━━━━━━━━━━━━━━━━━━━━━━\u001b[0m \u001b[32m110.5/110.5 kB\u001b[0m \u001b[31m11.7 MB/s\u001b[0m eta \u001b[36m0:00:00\u001b[0m\n",
            "\u001b[2K     \u001b[90m━━━━━━━━━━━━━━━━━━━━━━━━━━━━━━━━━━━━━━\u001b[0m \u001b[32m212.5/212.5 kB\u001b[0m \u001b[31m17.3 MB/s\u001b[0m eta \u001b[36m0:00:00\u001b[0m\n",
            "\u001b[2K     \u001b[90m━━━━━━━━━━━━━━━━━━━━━━━━━━━━━━━━━━━━━━\u001b[0m \u001b[32m134.3/134.3 kB\u001b[0m \u001b[31m15.0 MB/s\u001b[0m eta \u001b[36m0:00:00\u001b[0m\n",
            "\u001b[?25h  Building wheel for googletrans (setup.py) ... \u001b[?25l\u001b[?25hdone\n",
            "  Building wheel for ir_measures (setup.py) ... \u001b[?25l\u001b[?25hdone\n",
            "  Building wheel for cwl-eval (setup.py) ... \u001b[?25l\u001b[?25hdone\n"
          ]
        }
      ]
    },
    {
      "cell_type": "markdown",
      "source": [
        "After installation, let's download the dataset. The NeuCLIR 1 Collection is publicly available on Huggingface Datasets! Topics and qrels are available on the TREC website, from which we will directly download it.\n",
        "\n",
        "Working with the entire NeuCLIR Chinese collection will take too much indexing time. For this demonstration, we'll just use the first 40k documents."
      ],
      "metadata": {
        "id": "l8XXSpzuIbPw"
      }
    },
    {
      "cell_type": "code",
      "source": [
        "# Download topics and qrels from NIST\n",
        "!wget -q --show-progress https://trec.nist.gov/data/neuclir/topics.0720.utf8.jsonl\n",
        "!wget -q --show-progress https://trec.nist.gov/data/neuclir/2022-qrels.zho\n",
        "\n",
        "import json\n",
        "import pandas as pd\n",
        "from tqdm.auto import tqdm\n",
        "\n",
        "import ir_measures as irms\n",
        "from datasets import load_dataset\n",
        "\n",
        "# Only loading the first 40k docs from HF Datasets\n",
        "ds = load_dataset('neuclir/neuclir1', split='zho', streaming=True) # total 3179209\n",
        "doc_subset = [ o for i, o in zip(tqdm(range(40_000), desc='Loading first 40k docs from NeuCLIR Chinese Collection'), ds) ]\n",
        "subset_doc_ids = set([ d['id'] for d in doc_subset ])\n",
        "\n",
        "use_topic = '66' # use topic 66 as demo -- expecting to have 9 relevant docs\n",
        "\n",
        "qrels = pd.DataFrame([ l for l in irms.read_trec_qrels('2022-qrels.zho') if l.query_id == use_topic and l.doc_id in subset_doc_ids ])\n",
        "topics = [ t for t in map(json.loads, open(\"topics.0720.utf8.jsonl\")) if t['topic_id'] == use_topic ]"
      ],
      "metadata": {
        "colab": {
          "base_uri": "https://localhost:8080/",
          "height": 103,
          "referenced_widgets": [
            "ff91e7e524bc4f37bd9b6b575520c44c",
            "5d699e98b9f54c5a9324b34dfaf13772",
            "224b1f76f3904cc6968e38a75c0eba83",
            "53c2de696044483186b88bda0d0dc2a8",
            "26fffc837dbf425d9ca6baea4ab6156f",
            "ac56551f4063466597f649cd16b8467c",
            "7a8b95fd75cb4121b0f4b9a9180d3e50",
            "39b1769ec28848629840c58fd8d89c74",
            "47ec41f6fbdf4bbfa611ee01a9cf1c3e",
            "f09b79cb3cb4471faee943ce779307bf",
            "8f1fd9a2ba8b4cc0b2339f52825a86f1"
          ]
        },
        "id": "PI64O_uLCK_o",
        "outputId": "65d6451c-fc59-48a3-94fc-c95c6fa7b8b4"
      },
      "execution_count": null,
      "outputs": [
        {
          "output_type": "stream",
          "name": "stdout",
          "text": [
            "topics.0720.utf8.js 100%[===================>] 646.75K  --.-KB/s    in 0.03s   \n",
            "2022-qrels.zho.1    100%[===================>]   1.54M  --.-KB/s    in 0.04s   \n",
            "zho-base-run-result 100%[===================>]   9.11M  24.6MB/s    in 0.4s    \n"
          ]
        },
        {
          "output_type": "display_data",
          "data": {
            "text/plain": [
              "Loading first 40k docs from NeuCLIR Chinese Collection:   0%|          | 0/40000 [00:00<?, ?it/s]"
            ],
            "application/vnd.jupyter.widget-view+json": {
              "version_major": 2,
              "version_minor": 0,
              "model_id": "ff91e7e524bc4f37bd9b6b575520c44c"
            }
          },
          "metadata": {}
        }
      ]
    },
    {
      "cell_type": "markdown",
      "source": [
        "Here we create helper functions so we can obtain the query and document text more conveniently.\n",
        "\n",
        "\n"
      ],
      "metadata": {
        "id": "RPkAxI1wIntf"
      }
    },
    {
      "cell_type": "code",
      "source": [
        "topic_id_idx = { t['topic_id']: i for i, t in enumerate(topics) }\n",
        "def get_query_by_topic_id(topic_id, query_type='title', lang=\"eng\"):\n",
        "    for topic in topics[ topic_id_idx[topic_id] ]['topics']:\n",
        "      if topic[\"lang\"] == lang:\n",
        "        return topic[f'topic_{query_type}']\n",
        "\n",
        "doc_id_to_idx = { d['id']: i for i, d in enumerate(doc_subset) }\n",
        "def get_doc_text_by_doc_id(doc_id):\n",
        "    doc = doc_subset[ doc_id_to_idx[doc_id] ]\n",
        "    return doc['title'] + ' ' + doc['text']"
      ],
      "metadata": {
        "id": "wQEp7jlVCZFj"
      },
      "execution_count": null,
      "outputs": []
    },
    {
      "cell_type": "markdown",
      "source": [
        "## Indexing"
      ],
      "metadata": {
        "id": "WbD7iXPfH5BU"
      }
    },
    {
      "cell_type": "markdown",
      "source": [
        "We first index the NeuCLIR Chinese document subset using Anserini\n"
      ],
      "metadata": {
        "id": "zZhGNiigIvKC"
      }
    },
    {
      "cell_type": "code",
      "source": [
        "!mkdir -p collection"
      ],
      "metadata": {
        "id": "KOK9O2yqH6eC"
      },
      "execution_count": null,
      "outputs": []
    },
    {
      "cell_type": "markdown",
      "source": [
        "Creating jsonl files for Anserini"
      ],
      "metadata": {
        "id": "0bgkFrWMI-5J"
      }
    },
    {
      "cell_type": "code",
      "source": [
        "import json\n",
        "with open(\"collection/zho_neuclir_subset.jsonl\", \"w\") as f:\n",
        "  for doc_id in tqdm(doc_id_to_idx, total = len(doc_id_to_idx)):\n",
        "    content = get_doc_text_by_doc_id(doc_id)\n",
        "    text = json.dumps({\"id\": doc_id, \"contents\": content})\n",
        "    f.write(text+\"\\n\")"
      ],
      "metadata": {
        "colab": {
          "base_uri": "https://localhost:8080/",
          "height": 49,
          "referenced_widgets": [
            "4126a687ec3d477c91daec46f7fabf50",
            "6cca3797f8f64ac5933bd975a1d79834",
            "d0b3859603ff4c3c8d8afad4532e4c34",
            "f64c46fafe37484ab3c71a744c61f307",
            "c2aecfe8aabc4651928f17948c956ff3",
            "3f3e48ea40aa42a9802f04acea5d57a9",
            "2ba9ea43a28b41349fc1f522c69997b1",
            "5e687d906f2247f38393b81644ad53f8",
            "97033bcd95fd43d29063e7f190a89248",
            "8e5de9e2fb554d8d91f11af55d6a677b",
            "0a07969c0b084be69ece6a4efeaadb1f"
          ]
        },
        "id": "Fdh2QakWICd7",
        "outputId": "86a3456c-c103-46e4-c4e9-878b8eaf6d91"
      },
      "execution_count": null,
      "outputs": [
        {
          "output_type": "display_data",
          "data": {
            "text/plain": [
              "  0%|          | 0/40000 [00:00<?, ?it/s]"
            ],
            "application/vnd.jupyter.widget-view+json": {
              "version_major": 2,
              "version_minor": 0,
              "model_id": "4126a687ec3d477c91daec46f7fabf50"
            }
          },
          "metadata": {}
        }
      ]
    },
    {
      "cell_type": "markdown",
      "source": [
        "Starting the indexing for Chinese documents. At the end of the indexing, you should see 40,000 documents indexed"
      ],
      "metadata": {
        "id": "N8JgnRxfJDzJ"
      }
    },
    {
      "cell_type": "code",
      "source": [
        "!sh target/appassembler/bin/IndexCollection \\\n",
        "  -collection JsonCollection \\\n",
        "  -generator DefaultLuceneDocumentGenerator \\\n",
        "  -threads 9 \\\n",
        "  -input collection \\\n",
        "  -index indexes/zho_neuclir_subset_bm25 \\\n",
        "  -storePositions \\\n",
        "  -storeDocvectors \\\n",
        "  -storeRaw \\\n",
        "  -language zh"
      ],
      "metadata": {
        "colab": {
          "base_uri": "https://localhost:8080/"
        },
        "id": "OPRnXU_ZJted",
        "outputId": "2162287a-c18f-4e28-f7d9-3ff97408c4b2"
      },
      "execution_count": null,
      "outputs": [
        {
          "output_type": "stream",
          "name": "stdout",
          "text": [
            "2023-07-09 19:38:22,011 INFO  [main] index.IndexCollection (IndexCollection.java:380) - Setting log level to INFO\n",
            "2023-07-09 19:38:22,017 INFO  [main] index.IndexCollection (IndexCollection.java:383) - Starting indexer...\n",
            "2023-07-09 19:38:22,018 INFO  [main] index.IndexCollection (IndexCollection.java:384) - ============ Loading Parameters ============\n",
            "2023-07-09 19:38:22,019 INFO  [main] index.IndexCollection (IndexCollection.java:385) - DocumentCollection path: collection\n",
            "2023-07-09 19:38:22,020 INFO  [main] index.IndexCollection (IndexCollection.java:386) - CollectionClass: JsonCollection\n",
            "2023-07-09 19:38:22,022 INFO  [main] index.IndexCollection (IndexCollection.java:387) - Generator: DefaultLuceneDocumentGenerator\n",
            "2023-07-09 19:38:22,024 INFO  [main] index.IndexCollection (IndexCollection.java:388) - Threads: 9\n",
            "2023-07-09 19:38:22,026 INFO  [main] index.IndexCollection (IndexCollection.java:389) - Language: zh\n",
            "2023-07-09 19:38:22,026 INFO  [main] index.IndexCollection (IndexCollection.java:390) - Stemmer: porter\n",
            "2023-07-09 19:38:22,027 INFO  [main] index.IndexCollection (IndexCollection.java:391) - Keep stopwords? false\n",
            "2023-07-09 19:38:22,028 INFO  [main] index.IndexCollection (IndexCollection.java:392) - Stopwords: null\n",
            "2023-07-09 19:38:22,029 INFO  [main] index.IndexCollection (IndexCollection.java:393) - Store positions? true\n",
            "2023-07-09 19:38:22,030 INFO  [main] index.IndexCollection (IndexCollection.java:394) - Store docvectors? true\n",
            "2023-07-09 19:38:22,034 INFO  [main] index.IndexCollection (IndexCollection.java:395) - Store document \"contents\" field? false\n",
            "2023-07-09 19:38:22,034 INFO  [main] index.IndexCollection (IndexCollection.java:396) - Store document \"raw\" field? true\n",
            "2023-07-09 19:38:22,036 INFO  [main] index.IndexCollection (IndexCollection.java:397) - Additional fields to index: []\n",
            "2023-07-09 19:38:22,037 INFO  [main] index.IndexCollection (IndexCollection.java:398) - Optimize (merge segments)? false\n",
            "2023-07-09 19:38:22,040 INFO  [main] index.IndexCollection (IndexCollection.java:399) - Whitelist: null\n",
            "2023-07-09 19:38:22,040 INFO  [main] index.IndexCollection (IndexCollection.java:400) - Pretokenized?: false\n",
            "2023-07-09 19:38:22,041 INFO  [main] index.IndexCollection (IndexCollection.java:401) - Index path: indexes/zho_neuclir_subset_bm25\n",
            "2023-07-09 19:38:22,054 INFO  [main] index.IndexCollection (IndexCollection.java:481) - ============ Indexing Collection ============\n",
            "2023-07-09 19:38:22,078 INFO  [main] index.IndexCollection (IndexCollection.java:459) - Using language-specific analyzer\n",
            "2023-07-09 19:38:22,079 INFO  [main] index.IndexCollection (IndexCollection.java:460) - Language: zh\n",
            "2023-07-09 19:38:22,447 INFO  [main] index.IndexCollection (IndexCollection.java:510) - Thread pool with 9 threads initialized.\n",
            "2023-07-09 19:38:22,448 INFO  [main] index.IndexCollection (IndexCollection.java:512) - Initializing collection in collection\n",
            "2023-07-09 19:38:22,451 INFO  [main] index.IndexCollection (IndexCollection.java:521) - 1 file found\n",
            "2023-07-09 19:38:22,451 INFO  [main] index.IndexCollection (IndexCollection.java:522) - Starting to index...\n",
            "2023-07-09 19:39:15,925 INFO  [main] index.IndexCollection (IndexCollection.java:578) - Indexing Complete! 40,000 documents indexed\n",
            "2023-07-09 19:39:15,925 INFO  [main] index.IndexCollection (IndexCollection.java:579) - ============ Final Counter Values ============\n",
            "2023-07-09 19:39:15,926 INFO  [main] index.IndexCollection (IndexCollection.java:580) - indexed:           40,000\n",
            "2023-07-09 19:39:15,926 INFO  [main] index.IndexCollection (IndexCollection.java:581) - unindexable:            0\n",
            "2023-07-09 19:39:15,926 INFO  [main] index.IndexCollection (IndexCollection.java:582) - empty:                  0\n",
            "2023-07-09 19:39:15,927 INFO  [main] index.IndexCollection (IndexCollection.java:583) - skipped:                0\n",
            "2023-07-09 19:39:15,927 INFO  [main] index.IndexCollection (IndexCollection.java:584) - errors:                 0\n",
            "2023-07-09 19:39:15,974 INFO  [main] index.IndexCollection (IndexCollection.java:587) - Total 40,000 documents indexed in 00:00:53\n"
          ]
        }
      ]
    },
    {
      "cell_type": "markdown",
      "source": [
        "## Retrieval"
      ],
      "metadata": {
        "id": "lvVExJPLKt8J"
      }
    },
    {
      "cell_type": "markdown",
      "source": [
        "Post indexing of Chinese documents, we want to generate a ranked list for a given translated Chinese query using BM25 model."
      ],
      "metadata": {
        "id": "Rk9DNOLFJYIT"
      }
    },
    {
      "cell_type": "code",
      "source": [
        "!mkdir -p runs"
      ],
      "metadata": {
        "id": "olQOGGtELlfY"
      },
      "execution_count": null,
      "outputs": []
    },
    {
      "cell_type": "markdown",
      "source": [
        "Get the translated Chinese query for a specific topic_id (66). See the [cell](https://colab.research.google.com/drive/1u_8ESzz_f26toFy45m17UQRZXGVqMt0B#scrollTo=PI64O_uLCK_o&line=19&uniqifier=1) for more details"
      ],
      "metadata": {
        "id": "USnbNierJ_A4"
      }
    },
    {
      "cell_type": "code",
      "source": [
        "topic_text = get_query_by_topic_id(use_topic, lang=\"zho\")"
      ],
      "metadata": {
        "id": "H9Hl_YklKv5d"
      },
      "execution_count": null,
      "outputs": []
    },
    {
      "cell_type": "markdown",
      "source": [
        "Create a text file for the topic in the following tsv format"
      ],
      "metadata": {
        "id": "NS2bgmbYKrHC"
      }
    },
    {
      "cell_type": "code",
      "source": [
        "with open(\"zho_topics.txt\", \"w\") as f:\n",
        "  f.write(f\"{use_topic}\\t{topic_text}\\n\")"
      ],
      "metadata": {
        "id": "XJxC5oYkK3u8"
      },
      "execution_count": null,
      "outputs": []
    },
    {
      "cell_type": "markdown",
      "source": [
        "Perform retrieval using Anserini's BM25 with default hyperparameters"
      ],
      "metadata": {
        "id": "-8z2-hTlK3pP"
      }
    },
    {
      "cell_type": "code",
      "source": [
        "!sh target/appassembler/bin/SearchCollection \\\n",
        "  -index indexes/zho_neuclir_subset_bm25 \\\n",
        "  -topics zho_topics.txt \\\n",
        "  -topicreader TsvInt \\\n",
        "  -output runs/zho_neuclir_subset_bm25.title.txt \\\n",
        "  -bm25 \\\n",
        "  -language zh"
      ],
      "metadata": {
        "colab": {
          "base_uri": "https://localhost:8080/"
        },
        "id": "rybqyLaTLBSn",
        "outputId": "d200735f-cb71-4933-9ac2-698f019fc08e"
      },
      "execution_count": null,
      "outputs": [
        {
          "output_type": "stream",
          "name": "stdout",
          "text": [
            "2023-07-09 19:43:46,877 INFO  [main] search.SearchCollection (SearchCollection.java:950) - ============ Initializing Searcher ============\n",
            "2023-07-09 19:43:46,881 INFO  [main] search.SearchCollection (SearchCollection.java:951) - Index: indexes/zho_neuclir_subset_bm25\n",
            "2023-07-09 19:43:47,187 INFO  [main] search.SearchCollection (SearchCollection.java:955) - Fields: []\n",
            "2023-07-09 19:43:47,189 INFO  [main] search.SearchCollection (SearchCollection.java:686) - Using language-specific analyzer\n",
            "2023-07-09 19:43:47,190 INFO  [main] search.SearchCollection (SearchCollection.java:687) - Language: zh\n",
            "2023-07-09 19:43:47,224 INFO  [main] search.SearchCollection (SearchCollection.java:1227) - runtag: Anserini\n",
            "2023-07-09 19:43:47,228 INFO  [main] search.SearchCollection (SearchCollection.java:1233) - ============ Launching Search Threads ============\n",
            "2023-07-09 19:43:47,911 INFO  [pool-2-thread-1] search.SearchCollection$SearcherThread (SearchCollection.java:883) - ranker: bm25(k1=0.9,b=0.4), reranker: default: 1 queries processed in 00:00:00 = ~1.59 q/s\n",
            "2023-07-09 19:43:47,948 INFO  [main] search.SearchCollection (SearchCollection.java:1439) - Total run time: 00:00:01\n"
          ]
        }
      ]
    },
    {
      "cell_type": "markdown",
      "source": [
        "Scoring against the filtered qrels, this BM25 result is just ok -- giving us an nDCG@20 of 0.1483."
      ],
      "metadata": {
        "id": "Kf_l9R6cK9nT"
      }
    },
    {
      "cell_type": "code",
      "source": [
        "to_rerank = pd.DataFrame([ l for l in irms.read_trec_run(\"runs/zho_neuclir_subset_bm25.title.txt\")])\n",
        "\n",
        "irms.calc_aggregate([irms.nDCG@20, irms.AP], qrels, to_rerank)"
      ],
      "metadata": {
        "colab": {
          "base_uri": "https://localhost:8080/"
        },
        "id": "37twjd5lLwvq",
        "outputId": "7e833329-f8c0-42a1-f054-091a3f9def85"
      },
      "execution_count": null,
      "outputs": [
        {
          "output_type": "execute_result",
          "data": {
            "text/plain": [
              "{nDCG@20: 0.1482972305701491, AP: 0.06837054789182448}"
            ]
          },
          "metadata": {},
          "execution_count": 33
        }
      ]
    },
    {
      "cell_type": "markdown",
      "source": [
        "# Exercise\n",
        "Perform retrieval using a different topic id.\n",
        "\n",
        "For generating a score, refer to this [cell](https://colab.research.google.com/drive/1u_8ESzz_f26toFy45m17UQRZXGVqMt0B#scrollTo=PI64O_uLCK_o&line=19&uniqifier=1) on how to filter qrels to only include the chosen topic id.\n",
        "\n",
        "Try it out yourself here:"
      ],
      "metadata": {
        "id": "mD3-D2jhLNAb"
      }
    },
    {
      "cell_type": "code",
      "source": [
        "# Your solution\n",
        "use_topic =\n",
        "qrels ="
      ],
      "metadata": {
        "id": "6YTIEGf2LrUG"
      },
      "execution_count": null,
      "outputs": []
    },
    {
      "cell_type": "markdown",
      "source": [
        "# And there you go!\n",
        "\n",
        "You've learned how to run a simple BM25 retrieval model using query translation!"
      ],
      "metadata": {
        "id": "0XGzYMfrLxXR"
      }
    },
    {
      "cell_type": "code",
      "source": [],
      "metadata": {
        "id": "hFaMXxY6Vzu2"
      },
      "execution_count": null,
      "outputs": []
    }
  ]
}