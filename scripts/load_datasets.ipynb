{
 "cells": [
  {
   "cell_type": "code",
   "execution_count": 1,
   "id": "3845565c",
   "metadata": {},
   "outputs": [],
   "source": [
    "from datasets import load_dataset"
   ]
  },
  {
   "cell_type": "code",
   "execution_count": 2,
   "id": "247e9e23",
   "metadata": {},
   "outputs": [
    {
     "name": "stderr",
     "output_type": "stream",
     "text": [
      "PyTerrier 0.10.0 has loaded Terrier 5.8 (built by craigm on 2023-11-01 18:05) and terrier-helper 0.0.8\n",
      "\n"
     ]
    }
   ],
   "source": [
    "import pyterrier as pt\n",
    "if not pt.started():\n",
    "    pt.init()"
   ]
  },
  {
   "cell_type": "code",
   "execution_count": 25,
   "id": "fe5ac1d8",
   "metadata": {
    "scrolled": true
   },
   "outputs": [],
   "source": [
    "#dataset = load_dataset('neuclir/neuclir1')\n",
    "#dataset_csl = load_dataset('neuclir/csl')['csl']\n",
    "#dataset['zho'][:4] # Chinese documents\n",
    "#dataset_hc4 = load_dataset('neuclir/hc4')\n",
    "#dataset_neumarco = load_dataset('neuclir/neumarco')"
   ]
  },
  {
   "cell_type": "code",
   "execution_count": 30,
   "id": "cf2bdc87",
   "metadata": {},
   "outputs": [
    {
     "ename": "ValueError",
     "evalue": "Dataset({\n    features: ['id', 'cc_file', 'time', 'title', 'text', 'url'],\n    num_rows: 646305\n}): <class 'datasets.arrow_dataset.Dataset'> must be a List[str] or str",
     "output_type": "error",
     "traceback": [
      "\u001b[1;31m---------------------------------------------------------------------------\u001b[0m",
      "\u001b[1;31mValueError\u001b[0m                                Traceback (most recent call last)",
      "Cell \u001b[1;32mIn[30], line 4\u001b[0m\n\u001b[0;32m      2\u001b[0m indexer \u001b[38;5;241m=\u001b[39m pt\u001b[38;5;241m.\u001b[39mTRECCollectionIndexer(\u001b[38;5;124m\"\u001b[39m\u001b[38;5;124m./hc4_index\u001b[39m\u001b[38;5;124m\"\u001b[39m)\n\u001b[0;32m      3\u001b[0m \u001b[38;5;66;03m# this downloads the file msmarco-docs.trec.gz\u001b[39;00m\n\u001b[1;32m----> 4\u001b[0m indexref \u001b[38;5;241m=\u001b[39m indexer\u001b[38;5;241m.\u001b[39mindex(dataset)\n\u001b[0;32m      5\u001b[0m index \u001b[38;5;241m=\u001b[39m pt\u001b[38;5;241m.\u001b[39mIndexFactory\u001b[38;5;241m.\u001b[39mof(indexref)\n\u001b[0;32m      7\u001b[0m DPH_br \u001b[38;5;241m=\u001b[39m pt\u001b[38;5;241m.\u001b[39mBatchRetrieve(index, wmodel\u001b[38;5;241m=\u001b[39m\u001b[38;5;124m\"\u001b[39m\u001b[38;5;124mDPH\u001b[39m\u001b[38;5;124m\"\u001b[39m) \u001b[38;5;241m%\u001b[39m \u001b[38;5;241m100\u001b[39m\n",
      "File \u001b[1;32m~\\anaconda3\\Lib\\site-packages\\pyterrier\\index.py:1156\u001b[0m, in \u001b[0;36mTRECCollectionIndexer.index\u001b[1;34m(self, files_path)\u001b[0m\n\u001b[0;32m   1154\u001b[0m \u001b[38;5;28mself\u001b[39m\u001b[38;5;241m.\u001b[39mcheckIndexExists()\n\u001b[0;32m   1155\u001b[0m index \u001b[38;5;241m=\u001b[39m \u001b[38;5;28mself\u001b[39m\u001b[38;5;241m.\u001b[39mcreateIndexer()\n\u001b[1;32m-> 1156\u001b[0m asList \u001b[38;5;241m=\u001b[39m createAsList(files_path)\n\u001b[0;32m   1158\u001b[0m _TaggedDocumentSetup(\u001b[38;5;28mself\u001b[39m\u001b[38;5;241m.\u001b[39mmeta, \u001b[38;5;28mself\u001b[39m\u001b[38;5;241m.\u001b[39mmeta_tags)\n\u001b[0;32m   1160\u001b[0m colObj \u001b[38;5;241m=\u001b[39m createCollection(files_path, \u001b[38;5;28mself\u001b[39m\u001b[38;5;241m.\u001b[39mcollection)\n",
      "File \u001b[1;32m~\\anaconda3\\Lib\\site-packages\\pyterrier\\index.py:247\u001b[0m, in \u001b[0;36mcreateAsList\u001b[1;34m(files_path)\u001b[0m\n\u001b[0;32m    245\u001b[0m     asList \u001b[38;5;241m=\u001b[39m Arrays\u001b[38;5;241m.\u001b[39masList(\u001b[38;5;241m*\u001b[39mfiles_path)\n\u001b[0;32m    246\u001b[0m \u001b[38;5;28;01melse\u001b[39;00m:\n\u001b[1;32m--> 247\u001b[0m     \u001b[38;5;28;01mraise\u001b[39;00m \u001b[38;5;167;01mValueError\u001b[39;00m(\u001b[38;5;124mf\u001b[39m\u001b[38;5;124m\"\u001b[39m\u001b[38;5;132;01m{\u001b[39;00mfiles_path\u001b[38;5;132;01m}\u001b[39;00m\u001b[38;5;124m: \u001b[39m\u001b[38;5;132;01m{\u001b[39;00m\u001b[38;5;28mtype\u001b[39m(files_path)\u001b[38;5;132;01m}\u001b[39;00m\u001b[38;5;124m must be a List[str] or str\u001b[39m\u001b[38;5;124m\"\u001b[39m)\n\u001b[0;32m    248\u001b[0m \u001b[38;5;28;01mreturn\u001b[39;00m asList\n",
      "\u001b[1;31mValueError\u001b[0m: Dataset({\n    features: ['id', 'cc_file', 'time', 'title', 'text', 'url'],\n    num_rows: 646305\n}): <class 'datasets.arrow_dataset.Dataset'> must be a List[str] or str"
     ]
    }
   ],
   "source": [
    "dataset = dataset_hc4['zho']\n",
    "indexer = pt.TRECCollectionIndexer(\"./hc4_index\")\n",
    "# this downloads the file msmarco-docs.trec.gz\n",
    "indexref = indexer.index(dataset)\n",
    "index = pt.IndexFactory.of(indexref)\n",
    "\n",
    "DPH_br = pt.BatchRetrieve(index, wmodel=\"DPH\") % 100\n",
    "BM25_br = pt.BatchRetrieve(index, wmodel=\"BM25\") % 100\n",
    "pt.Experiment(\n",
    "    [DPH_br, BM25_br],\n",
    "    dataset.get_topics(\"test\"),\n",
    "    dataset.get_qrels(\"test\"),\n",
    "    eval_metrics=[\"recip_rank\", \"ndcg_cut_10\", \"map\"])"
   ]
  },
  {
   "cell_type": "code",
   "execution_count": 4,
   "id": "d686d4c7",
   "metadata": {},
   "outputs": [
    {
     "data": {
      "text/plain": [
       "DatasetDict({\n",
       "    fas: Dataset({\n",
       "        features: ['id', 'cc_file', 'time', 'title', 'text', 'url'],\n",
       "        num_rows: 486486\n",
       "    })\n",
       "    rus: Dataset({\n",
       "        features: ['id', 'cc_file', 'time', 'title', 'text', 'url'],\n",
       "        num_rows: 4721064\n",
       "    })\n",
       "    zho: Dataset({\n",
       "        features: ['id', 'cc_file', 'time', 'title', 'text', 'url'],\n",
       "        num_rows: 646305\n",
       "    })\n",
       "})"
      ]
     },
     "execution_count": 4,
     "metadata": {},
     "output_type": "execute_result"
    }
   ],
   "source": [
    "dataset_hc4"
   ]
  },
  {
   "cell_type": "code",
   "execution_count": 27,
   "id": "52f15555",
   "metadata": {},
   "outputs": [
    {
     "data": {
      "text/plain": [
       "{'id': 'a2b32b07-a008-438a-a8c3-b8331a1e306d',\n",
       " 'cc_file': 'crawl-data/CC-NEWS/2016/08/CC-NEWS-20160826124520-00000.warc.gz',\n",
       " 'time': None,\n",
       " 'title': '云南网，云南省重点新闻网站，世界看云南的窗口，云南看世界的视角',\n",
       " 'text': '今年夏季，一片浪漫花海在抚仙湖边横空出世，既美化了抚仙湖，又为澄江的旅游带来了旺盛的人气。',\n",
       " 'url': 'http://www.yunnan.cn'}"
      ]
     },
     "execution_count": 27,
     "metadata": {},
     "output_type": "execute_result"
    }
   ],
   "source": [
    "dataset_hc4['zho'][0]"
   ]
  },
  {
   "cell_type": "code",
   "execution_count": 13,
   "id": "88347f60",
   "metadata": {},
   "outputs": [
    {
     "data": {
      "text/plain": [
       "Dataset({\n",
       "    features: ['doc_id', 'title', 'abstract', 'keywords', 'category', 'category_eng', 'discipline', 'discipline_eng'],\n",
       "    num_rows: 395927\n",
       "})"
      ]
     },
     "execution_count": 13,
     "metadata": {},
     "output_type": "execute_result"
    }
   ],
   "source": [
    "dataset_csl"
   ]
  },
  {
   "cell_type": "code",
   "execution_count": 17,
   "id": "3415a0f3",
   "metadata": {},
   "outputs": [
    {
     "data": {
      "text/plain": [
       "{'doc_id': 'csl-313335',\n",
       " 'title': '光电稳定跟踪装置的稳定机理分析研究',\n",
       " 'abstract': '介绍了一类使用微机电速率陀螺组合、具有全稳定功能、且无天顶跟踪盲锥区的新型高精度三轴光电稳定跟踪装置的稳定机理.首先分析了该类装置中的坐标系及其相互之间的关系,然后运用多体力学的方法推导了该类装置的运动学方程,得出了三轴平台式速率稳定装置的数学模型.该模型表明,实现三轴全姿态稳定,不同的陀螺安装方法有不同的优缺点.研究了由于瞄准线稳定误差带来的图像相对运动和变形情况,分析了瞄准线稳定精度对图像稳定精度的影响.结果表明,两轴稳定装置绕轴线的旋转会造成比较大的图像稳定误差,而三轴稳定装置可以有效抑制绕轴旋转误差,从而达到较高的图像稳定精度.',\n",
       " 'keywords': ['光电稳定跟踪装置', '瞄准线', '陀螺稳定', '图像稳定', '精度'],\n",
       " 'category': '工学',\n",
       " 'category_eng': 'Engineering',\n",
       " 'discipline': '光学工程',\n",
       " 'discipline_eng': 'Optical Engineering'}"
      ]
     },
     "execution_count": 17,
     "metadata": {},
     "output_type": "execute_result"
    }
   ],
   "source": [
    "dataset_csl[50020]"
   ]
  },
  {
   "cell_type": "code",
   "execution_count": 19,
   "id": "59727757",
   "metadata": {},
   "outputs": [
    {
     "data": {
      "text/plain": [
       "DatasetDict({\n",
       "    fas: Dataset({\n",
       "        features: ['doc_id', 'text'],\n",
       "        num_rows: 8841823\n",
       "    })\n",
       "    rus: Dataset({\n",
       "        features: ['doc_id', 'text'],\n",
       "        num_rows: 8841823\n",
       "    })\n",
       "    zho: Dataset({\n",
       "        features: ['doc_id', 'text'],\n",
       "        num_rows: 8841823\n",
       "    })\n",
       "})"
      ]
     },
     "execution_count": 19,
     "metadata": {},
     "output_type": "execute_result"
    }
   ],
   "source": [
    "dataset_neumarco"
   ]
  },
  {
   "cell_type": "code",
   "execution_count": 22,
   "id": "9e457a93",
   "metadata": {},
   "outputs": [
    {
     "data": {
      "text/plain": [
       "{'doc_id': ['0', '1', '2', '3', '4', '5', '6', '7', '8', '9'],\n",
       " 'text': [' 在科学头脑中的交流对曼哈顿项目的成功同样重要，因为科学智慧是科学智慧。 原子研究人员和工程师令人印象深刻的成就中唯一的云就是他们的成功真正意味着什么；数十万无辜的生命被消灭了。',\n",
       "  ' 曼哈顿计划及其原子弹帮助结束了二战。 其和平利用原子能的遗产继续对历史和科学产生影响。',\n",
       "  ' 曼哈顿计划——曼哈顿计划——曼哈顿计划是为了看看是否有可能制造原子弹。 这个项目的成功将永远改变世界，永远让它知道这个强大的东西是人造的。',\n",
       "  ' 曼哈顿计划是二战期间开发第一颗原子弹的一个项目的名称。 它具体指的是项目从194年开始的时期。 1946年2月2日，在美国陆军工兵部队的控制下，由Leslie R.Groves将军管理。',\n",
       "  ' 每卷的版本以及补充网站. The first website–The Manhattan Project:An Interactive History–is available on the Office of History and Heritage Resources website,http://www. cfo.doe. gov/me70/history. The Office of History and Heritage Resources and the National Nuclear Security',\n",
       "  ' 曼哈顿计划。 这张曾经被归类的照片是第一颗原子弹的特征——这是原子科学家们绰号Gadget的武器。 核时代始于1945年7月16日，当时它在新墨西哥州沙漠中被引爆。',\n",
       "  ' 它也不会试图取代关于原子弹和二战结束的特别丰富的文献。 这一收集并不试图记录曼哈顿项目的起源和发展。',\n",
       "  ' 曼哈顿计划。 曼哈顿计划（英语：Manhattan Project）是第二次世界大战期间的一项研发工作，生产了第一批核武器。 它由美国领导，得到联合王国和加拿大的支持。 从1942年到1946年，该项目由美国陆军工兵部队的莱斯利·格罗夫少将指挥。 核物理学家罗伯特·奥本海默是洛斯阿拉莫斯实验室的主任，该实验室设计了实际的炸弹。 该项目的陆军部分被指定为',\n",
       "  ' 1942年6月，美国陆军工程兵开始了曼哈顿计划——2枚原子弹的秘密名称。',\n",
       "  ' 汉福德被选定为曼哈顿项目B反应堆的一个主要原因是它靠近哥伦比亚河，这是北美海岸流入太平洋的最大河流。']}"
      ]
     },
     "execution_count": 22,
     "metadata": {},
     "output_type": "execute_result"
    }
   ],
   "source": [
    "dataset_neumarco['zho'][:10]"
   ]
  },
  {
   "cell_type": "code",
   "execution_count": 23,
   "id": "8372b8ba",
   "metadata": {},
   "outputs": [
    {
     "data": {
      "text/plain": [
       "{'doc_id': ['0', '1', '2', '3', '4', '5', '6', '7', '8', '9'],\n",
       " 'text': [' Присутствие общения среди научных умов было не менее важным для успеха Манхэттенского проекта, как и научный интеллект. Единственное облако, висящее над впечатляющим достижением атомных исследователей и инженеров, это то, что их успех действительно означал; сотни тысяч невинных жизней уничтожены.',\n",
       "  ' Манхэттенский проект и его атомная бомба помогли положить конец Второй мировой войне. Его наследие мирного использования атомной энергии продолжает оказывать влияние на историю и науку.',\n",
       "  ' Essay on The Manhattan Project - The Manhattan Project The Manhattan Project was to see if making an atomic bomb possible. Успех этого проекта навсегда изменит мир навсегда, сделав его известным, что что-то такое могущественное может быть сделано человеком.',\n",
       "  ' Манхэттенский проект был назван проектом, осуществлявшимся во время Второй мировой войны, по разработке первой атомной бомбы. Речь идет, в частности, о периоде проекта от 194... 2-1946 под контролем Инженерного корпуса армии США, под управлением генерала Лесли Р. Гроувса.',\n",
       "  ' версий каждого тома, а также дополнительных веб-сайтов. Первый веб-сайт — The Manhattan Project: An Interactive History — доступен на веб-сайте Управления Истории и Ресурсов Наследия, http: / / www. cfo. doe. gov / me70 / history. Управление Истории и Ресурсов Наследия и Национальной Ядерной Безопасности',\n",
       "  ' Манхэттенский проект. На этой некогда секретной фотографии изображена первая атомная бомба — оружие, которое ученые по атомной энергии прозвали Гаджет. Ядерная эпоха началась 16 июля 1945 года, когда она была взорвана в пустыне Нью-Мексико.',\n",
       "  ' Она также не будет пытаться заменить чрезвычайно богатую литературу по атомным бомбам и окончанию Второй мировой войны. Эта коллекция не пытается документировать происхождение и развитие Манхэттенского проекта.',\n",
       "  ' Манхэттенский проект. Манхэттенский проект был научно-исследовательским и опытно-конструкторским предприятием во время Второй мировой войны, которое произвело первое ядерное оружие. Ее возглавляли Соединенные Штаты при поддержке Соединенного Королевства и Канады. С 1942 по 1946 год проект осуществлялся под руководством генерал-майора Лесли Гроувса из инженерного корпуса армии США. Ядерный физик Роберт Оппенгеймер был директором лаборатории Лос Аламос, которая разработала настоящие бомбы. Армейский компонент проекта был назначен',\n",
       "  ' В июне 1942 года инженерный корпус армии США начал проект Манхэттена — секретное название двух атомных бомб.',\n",
       "  ' Одной из главных причин, по которой Хэнфорд был выбран в качестве объекта для « B Reactor » Манхэттенского проекта, была его близость к реке Колумбия, самой большой реке, протекающей в Тихий океан с северо американского побережья.']}"
      ]
     },
     "execution_count": 23,
     "metadata": {},
     "output_type": "execute_result"
    }
   ],
   "source": [
    "dataset_neumarco['rus'][:10]"
   ]
  },
  {
   "cell_type": "code",
   "execution_count": null,
   "id": "99ab609c",
   "metadata": {},
   "outputs": [],
   "source": []
  }
 ],
 "metadata": {
  "kernelspec": {
   "display_name": "Python 3 (ipykernel)",
   "language": "python",
   "name": "python3"
  },
  "language_info": {
   "codemirror_mode": {
    "name": "ipython",
    "version": 3
   },
   "file_extension": ".py",
   "mimetype": "text/x-python",
   "name": "python",
   "nbconvert_exporter": "python",
   "pygments_lexer": "ipython3",
   "version": "3.11.5"
  }
 },
 "nbformat": 4,
 "nbformat_minor": 5
}
