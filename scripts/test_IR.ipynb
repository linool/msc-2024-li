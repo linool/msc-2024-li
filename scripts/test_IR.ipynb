{
 "cells": [
  {
   "cell_type": "code",
   "execution_count": 2,
   "id": "1c3f4f22-f97e-42b0-a656-0f0abdca3ed0",
   "metadata": {},
   "outputs": [],
   "source": [
    "import json\n",
    "from urllib.request import urlretrieve\n",
    "import pandas as pd\n",
    "from tqdm.auto import tqdm\n",
    "\n",
    "import ir_measures as irms\n",
    "from datasets import load_dataset"
   ]
  },
  {
   "cell_type": "code",
   "execution_count": 3,
   "id": "1ea51aba-7363-4200-b979-9069548b5ce8",
   "metadata": {},
   "outputs": [
    {
     "name": "stderr",
     "output_type": "stream",
     "text": [
      "PyTerrier 0.10.0 has loaded Terrier 5.8 (built by craigm on 2023-11-01 18:05) and terrier-helper 0.0.8\n",
      "\n",
      "No etc/terrier.properties, using terrier.default.properties for bootstrap configuration.\n"
     ]
    }
   ],
   "source": [
    "import pyterrier as pt\n",
    "if not pt.started():\n",
    "    pt.init()"
   ]
  },
  {
   "cell_type": "markdown",
   "id": "ee4ea0ec-0ae0-4ec1-ad9a-7d6058de6d96",
   "metadata": {},
   "source": [
    "Code below is copied from "
   ]
  },
  {
   "cell_type": "code",
   "execution_count": null,
   "id": "1e8ff431-57ce-4959-87a3-df5cebe6fddc",
   "metadata": {},
   "outputs": [],
   "source": [
    "# Only loading the first 40k docs from HF Datasets\n",
    "ds = load_dataset('neuclir/neuclir1', split='zho', streaming=True) # total 3179209\n",
    "doc_subset = [ o for i, o in zip(tqdm(range(40_000), desc='Loading first 40k docs from NeuCLIR Chinese Collection'), ds) ]\n",
    "subset_doc_ids = set([ d['id'] for d in doc_subset ])"
   ]
  },
  {
   "cell_type": "code",
   "execution_count": 5,
   "id": "32eb6067-e38c-4acf-afff-1c7417c39d4b",
   "metadata": {},
   "outputs": [
    {
     "data": {
      "text/plain": [
       "('2022-qrels.zho', <http.client.HTTPMessage at 0xffff35b58610>)"
      ]
     },
     "execution_count": 5,
     "metadata": {},
     "output_type": "execute_result"
    }
   ],
   "source": [
    "# Download topics and qrels from NIST\n",
    "urlretrieve('https://trec.nist.gov/data/neuclir/topics.0720.utf8.jsonl', \"topics.0720.utf8.jsonl\")\n",
    "urlretrieve('https://trec.nist.gov/data/neuclir/2022-qrels.zho', \"2022-qrels.zho\")"
   ]
  },
  {
   "cell_type": "code",
   "execution_count": 6,
   "id": "98913086-4926-499d-8de3-a67b2244b80d",
   "metadata": {},
   "outputs": [],
   "source": [
    "use_topic = '66' # use topic 66 as demo \n",
    "\n",
    "qrels = pd.DataFrame([ l for l in irms.read_trec_qrels('2022-qrels.zho') if l.query_id == use_topic and l.doc_id in subset_doc_ids ])\n",
    "topics = [ t for t in map(json.loads, open(\"topics.0720.utf8.jsonl\",encoding='UTF-8')) if t['topic_id'] == use_topic ]"
   ]
  },
  {
   "cell_type": "code",
   "execution_count": 7,
   "id": "378dfca3-1865-4228-bb9d-dc9cbf73476c",
   "metadata": {},
   "outputs": [],
   "source": [
    "topic_id_idx = { t['topic_id']: i for i, t in enumerate(topics) }\n",
    "def get_query_by_topic_id(topic_id, query_type='title', lang=\"eng\"):\n",
    "    for topic in topics[ topic_id_idx[topic_id] ]['topics']:\n",
    "      if topic[\"lang\"] == lang:\n",
    "        return topic[f'topic_{query_type}']\n",
    "\n",
    "doc_id_to_idx = { d['id']: i for i, d in enumerate(doc_subset) }\n",
    "def get_doc_text_by_doc_id(doc_id):\n",
    "    doc = doc_subset[ doc_id_to_idx[doc_id] ]\n",
    "    return doc['title'] + ' ' + doc['text']"
   ]
  },
  {
   "cell_type": "code",
   "execution_count": 8,
   "id": "fb511621-6af5-4eda-8f65-a55d03c2be40",
   "metadata": {},
   "outputs": [
    {
     "data": {
      "application/vnd.jupyter.widget-view+json": {
       "model_id": "a43b8f3d5b0441608a9fb4f4c282df87",
       "version_major": 2,
       "version_minor": 0
      },
      "text/plain": [
       "  0%|          | 0/40000 [00:00<?, ?it/s]"
      ]
     },
     "metadata": {},
     "output_type": "display_data"
    }
   ],
   "source": [
    "with open(\"collection/zho_neuclir_subset.jsonl\", \"w\") as f:\n",
    "  for doc_id in tqdm(doc_id_to_idx, total = len(doc_id_to_idx)):\n",
    "    content = get_doc_text_by_doc_id(doc_id)\n",
    "    text = json.dumps({\"id\": doc_id, \"contents\": content})\n",
    "    f.write(text+\"\\n\")"
   ]
  },
  {
   "cell_type": "code",
   "execution_count": 9,
   "id": "e0bbc1db-4c31-4d00-b554-090e93ec0f65",
   "metadata": {},
   "outputs": [],
   "source": [
    "topic_text = get_query_by_topic_id(use_topic, lang=\"zho\")"
   ]
  },
  {
   "cell_type": "code",
   "execution_count": 10,
   "id": "62bf5fb9-26bb-44ef-83b4-6ca475192873",
   "metadata": {},
   "outputs": [],
   "source": [
    "with open(\"zho_topics.txt\", \"w\") as f:\n",
    "  f.write(f\"{use_topic}\\t{topic_text}\\n\")"
   ]
  },
  {
   "cell_type": "code",
   "execution_count": 12,
   "id": "495b9275-3042-47b3-acc4-542c5788f413",
   "metadata": {},
   "outputs": [
    {
     "data": {
      "text/plain": [
       "{AP: 0.06837054789182448, nDCG@20: 0.1482972305701491}"
      ]
     },
     "execution_count": 12,
     "metadata": {},
     "output_type": "execute_result"
    }
   ],
   "source": [
    "to_rerank = pd.DataFrame([ l for l in irms.read_trec_run(\"runs/zho_neuclir_subset_bm25.title.txt\")])\n",
    "irms.calc_aggregate([irms.nDCG@20, irms.AP], qrels, to_rerank)"
   ]
  },
  {
   "cell_type": "code",
   "execution_count": 14,
   "id": "797e4e14-da67-4635-a801-b439d553bfd3",
   "metadata": {},
   "outputs": [
    {
     "data": {
      "text/plain": [
       "[{'topic_id': '66',\n",
       "  'languages_with_qrels': [],\n",
       "  'topics': [{'lang': 'eng',\n",
       "    'source': 'original',\n",
       "    'topic_title': 'COVID-19 vaccination rate in China',\n",
       "    'topic_description': 'I am interested in finding articles that provide information about the COVID-19 vaccination rate in China.',\n",
       "    'topic_narrative': 'Find articles that that provide information about the COVID-19 vaccination rate in China. Relevant articles should include information of vaccination rate at the national level (mainland only) or local level, or discussions about the vaccination rate of the country or any of its regions if no specific rates are mentioned. Articles on other issues, like information and discussions about vaccines, effectiveness of the vaccination, vaccination rate in other countries, are not considered relevant. '},\n",
       "   {'lang': 'fas',\n",
       "    'source': 'human translation',\n",
       "    'topic_title': 'نرخ واکسیناسیون کووید-۱۹ در چین',\n",
       "    'topic_description': 'علاقه مند به یافتن مقالاتی هستم که اطلاعاتی در مورد میزان واکسیناسیون کووید-۱۹ در چین ارائه می دهند.',\n",
       "    'topic_narrative': ' مقالاتی را بیابید که اطلاعاتی درباره میزان واکسیناسیون کووید-۱۹ در چین را ارائه می\\u200cکنند. مقالات مربوطه باید شامل اطلاعاتی مرتبط با میزان واکسیناسیون در سطح ملی (فقط در سرزمین اصلی) یا سطح محلی، یا بحث در مورد میزان واکسیناسیون کشور یا هر یک از مناطق آن در صورت عدم ذکر نرخ های خاص باشد. مقالات مربوط به موضوعات دیگر، مانند اطلاعات و بحث در مورد واکسن ها، اثربخشی واکسیناسیون، میزان واکسیناسیون در کشورهای دیگر، مرتبط تلقی نمی شوند.'},\n",
       "   {'lang': 'rus',\n",
       "    'source': 'human translation',\n",
       "    'topic_title': 'Уровень вакцинации от коронавируса в Китае',\n",
       "    'topic_description': 'Мне интересно найти статьи, в которых содержится информация о количестве вакцинации от коронавируса в Китае',\n",
       "    'topic_narrative': 'Найдите статьи, в которых содержится информация о количестве прививок от Covid19 в Китае. Соответствующие статьи должны включать информацию об уровне вакцинации на национальном уровне (только на материке) или на местном уровне, или обсуждение уровня вакцинации в стране или любом из ее регионов, если не упоминаются конкретные показатели. Статьи по другим вопросам, такие как информация или обсуждения о вакцинах, эффективности вакцинации, уровне вакцинации в других странах, считаются не релевантными.'},\n",
       "   {'lang': 'zho',\n",
       "    'source': 'human translation',\n",
       "    'topic_title': '中国新冠疫苗的接种率',\n",
       "    'topic_description': '我要查找中国新冠疫苗的接种率。',\n",
       "    'topic_narrative': '查找提供有关中国新冠疫苗接种率信息的文章。相关文章应包括国家层面（仅限大陆）或地方层面的疫苗接种率信息，或有关全国或任何地区的疫苗接种率这个话题的讨论（即使文章没有未提及具体接种率）。 涉及新冠疫苗其他问题的文章，例如有关疫苗产品的信息和讨论、疫苗接种的有效性、其他国家的疫苗接种率等，都不是相关的。'},\n",
       "   {'lang': 'fas',\n",
       "    'source': 'google translation',\n",
       "    'topic_title': 'نرخ واکسیناسیون کووید-19 در چین',\n",
       "    'topic_description': 'من علاقه مند به یافتن مقالاتی هستم که اطلاعاتی در مورد میزان واکسیناسیون COVID-19 در چین ارائه می دهند.',\n",
       "    'topic_narrative': 'مقالاتی را بیابید که اطلاعاتی درباره میزان واکسیناسیون کووید-۱۹ در چین ارائه می\\u200cدهند. مقالات مرتبط باید شامل اطلاعات نرخ واکسیناسیون در سطح ملی (فقط در سرزمین اصلی) یا سطح محلی، یا بحث در مورد میزان واکسیناسیون کشور یا هر یک از مناطق آن در صورت عدم ذکر نرخ های خاص باشد. مقالات مربوط به موضوعات دیگر، مانند اطلاعات و بحث در مورد واکسن ها، اثربخشی واکسیناسیون، میزان واکسیناسیون در کشورهای دیگر، مرتبط تلقی نمی شوند.'},\n",
       "   {'lang': 'rus',\n",
       "    'source': 'google translation',\n",
       "    'topic_title': 'Уровень вакцинации от COVID-19 в Китае',\n",
       "    'topic_description': 'Мне интересно найти статьи, в которых содержится информация о количестве прививок от COVID-19 в Китае.',\n",
       "    'topic_narrative': 'Найдите статьи, в которых содержится информация о количестве прививок от COVID-19 в Китае. Соответствующие статьи должны включать информацию о уровне вакцинации на национальном уровне (только на материке) или на местном уровне, либо обсуждение уровня вакцинации в стране или любом из ее регионов, если не упоминаются конкретные показатели. Статьи по другим вопросам, такие как информация и обсуждение вакцин, эффективности вакцинации, уровня вакцинации в других странах, считаются неуместными.'},\n",
       "   {'lang': 'zho',\n",
       "    'source': 'google translation',\n",
       "    'topic_title': '中国的 COVID-19 疫苗接种率',\n",
       "    'topic_description': '我有兴趣找到提供有关中国 COVID-19 疫苗接种率信息的文章。',\n",
       "    'topic_narrative': '查找提供有关中国 COVID-19 疫苗接种率信息的文章。相关文章应包括国家层面（仅限大陆）或地方层面的疫苗接种率信息，或在未提及具体接种率的情况下讨论国家或任何地区的疫苗接种率。关于其他问题的文章，例如有关疫苗的信息和讨论、疫苗接种的有效性、其他国家的疫苗接种率，不被认为是相关的。'}]}]"
      ]
     },
     "execution_count": 14,
     "metadata": {},
     "output_type": "execute_result"
    }
   ],
   "source": [
    "topics"
   ]
  },
  {
   "cell_type": "code",
   "execution_count": 15,
   "id": "a113fc7f-20d4-4981-b686-4f98908df3be",
   "metadata": {},
   "outputs": [
    {
     "data": {
      "text/html": [
       "<div>\n",
       "<style scoped>\n",
       "    .dataframe tbody tr th:only-of-type {\n",
       "        vertical-align: middle;\n",
       "    }\n",
       "\n",
       "    .dataframe tbody tr th {\n",
       "        vertical-align: top;\n",
       "    }\n",
       "\n",
       "    .dataframe thead th {\n",
       "        text-align: right;\n",
       "    }\n",
       "</style>\n",
       "<table border=\"1\" class=\"dataframe\">\n",
       "  <thead>\n",
       "    <tr style=\"text-align: right;\">\n",
       "      <th></th>\n",
       "      <th>query_id</th>\n",
       "      <th>doc_id</th>\n",
       "      <th>relevance</th>\n",
       "      <th>iteration</th>\n",
       "    </tr>\n",
       "  </thead>\n",
       "  <tbody>\n",
       "    <tr>\n",
       "      <th>0</th>\n",
       "      <td>66</td>\n",
       "      <td>7d66f5e4-bc43-4bbf-8b4c-105873c77285</td>\n",
       "      <td>0</td>\n",
       "      <td>0</td>\n",
       "    </tr>\n",
       "    <tr>\n",
       "      <th>1</th>\n",
       "      <td>66</td>\n",
       "      <td>1a959671-efb2-4ccb-901d-8410b4ec021e</td>\n",
       "      <td>0</td>\n",
       "      <td>0</td>\n",
       "    </tr>\n",
       "    <tr>\n",
       "      <th>2</th>\n",
       "      <td>66</td>\n",
       "      <td>bb0d3721-fe49-4204-a444-2850908271fe</td>\n",
       "      <td>0</td>\n",
       "      <td>0</td>\n",
       "    </tr>\n",
       "    <tr>\n",
       "      <th>3</th>\n",
       "      <td>66</td>\n",
       "      <td>71e319d2-0ee2-4601-a56b-e1543633338e</td>\n",
       "      <td>0</td>\n",
       "      <td>0</td>\n",
       "    </tr>\n",
       "    <tr>\n",
       "      <th>4</th>\n",
       "      <td>66</td>\n",
       "      <td>350bfe16-8f80-4914-8217-2e18bbdec757</td>\n",
       "      <td>1</td>\n",
       "      <td>0</td>\n",
       "    </tr>\n",
       "    <tr>\n",
       "      <th>...</th>\n",
       "      <td>...</td>\n",
       "      <td>...</td>\n",
       "      <td>...</td>\n",
       "      <td>...</td>\n",
       "    </tr>\n",
       "    <tr>\n",
       "      <th>60</th>\n",
       "      <td>66</td>\n",
       "      <td>98eb7d7c-1cd7-45fa-8a6c-6c30a909adb5</td>\n",
       "      <td>0</td>\n",
       "      <td>0</td>\n",
       "    </tr>\n",
       "    <tr>\n",
       "      <th>61</th>\n",
       "      <td>66</td>\n",
       "      <td>504e9afe-6b36-426e-82e9-5c02c2b2818f</td>\n",
       "      <td>0</td>\n",
       "      <td>0</td>\n",
       "    </tr>\n",
       "    <tr>\n",
       "      <th>62</th>\n",
       "      <td>66</td>\n",
       "      <td>04794074-9fbd-495b-8855-0c5567130b2e</td>\n",
       "      <td>0</td>\n",
       "      <td>0</td>\n",
       "    </tr>\n",
       "    <tr>\n",
       "      <th>63</th>\n",
       "      <td>66</td>\n",
       "      <td>683861af-9a2f-4ab7-bda7-33069a226e05</td>\n",
       "      <td>0</td>\n",
       "      <td>0</td>\n",
       "    </tr>\n",
       "    <tr>\n",
       "      <th>64</th>\n",
       "      <td>66</td>\n",
       "      <td>f506b237-bb0c-4bf7-b1da-51657e08fc4c</td>\n",
       "      <td>0</td>\n",
       "      <td>0</td>\n",
       "    </tr>\n",
       "  </tbody>\n",
       "</table>\n",
       "<p>65 rows × 4 columns</p>\n",
       "</div>"
      ],
      "text/plain": [
       "   query_id                                doc_id  relevance iteration\n",
       "0        66  7d66f5e4-bc43-4bbf-8b4c-105873c77285          0         0\n",
       "1        66  1a959671-efb2-4ccb-901d-8410b4ec021e          0         0\n",
       "2        66  bb0d3721-fe49-4204-a444-2850908271fe          0         0\n",
       "3        66  71e319d2-0ee2-4601-a56b-e1543633338e          0         0\n",
       "4        66  350bfe16-8f80-4914-8217-2e18bbdec757          1         0\n",
       "..      ...                                   ...        ...       ...\n",
       "60       66  98eb7d7c-1cd7-45fa-8a6c-6c30a909adb5          0         0\n",
       "61       66  504e9afe-6b36-426e-82e9-5c02c2b2818f          0         0\n",
       "62       66  04794074-9fbd-495b-8855-0c5567130b2e          0         0\n",
       "63       66  683861af-9a2f-4ab7-bda7-33069a226e05          0         0\n",
       "64       66  f506b237-bb0c-4bf7-b1da-51657e08fc4c          0         0\n",
       "\n",
       "[65 rows x 4 columns]"
      ]
     },
     "execution_count": 15,
     "metadata": {},
     "output_type": "execute_result"
    }
   ],
   "source": [
    "qrels"
   ]
  },
  {
   "cell_type": "code",
   "execution_count": null,
   "id": "a3ac5971-efdb-4481-8074-b77fcf4e38c5",
   "metadata": {},
   "outputs": [],
   "source": []
  }
 ],
 "metadata": {
  "kernelspec": {
   "display_name": "Python 3 (ipykernel)",
   "language": "python",
   "name": "python3"
  },
  "language_info": {
   "codemirror_mode": {
    "name": "ipython",
    "version": 3
   },
   "file_extension": ".py",
   "mimetype": "text/x-python",
   "name": "python",
   "nbconvert_exporter": "python",
   "pygments_lexer": "ipython3",
   "version": "3.10.12"
  }
 },
 "nbformat": 4,
 "nbformat_minor": 5
}
